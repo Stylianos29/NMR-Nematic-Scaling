{
 "cells": [
  {
   "cell_type": "markdown",
   "source": [
    "## This is a self-sufficient Jupyter notebook aiming in investigating whether a truncated power-law distribution $D(W_1)$ of relaxation rates $W_1$ can sufficiently approximate the $D(W_1)$ for the glassy case of magnetization relaxation as indicated by real NMR data. We assume then a test $D(W_1)$ of a power law form: $D(W_1) \\equiv A W_1^{-\\theta}$ valid only for a range: $W_1 \\in (W_1^{\\min}, W_1^{\\max})$; $D(W_1) = 0$ for points outside this range.\r\n",
    "\r\n",
    "## The notebook consists of two sections. The first section allows the user to input estimates for the parameters $\\theta$, $W_1^{\\min}$, $W_1^{\\max}$ and temperature $T$. The resulting $D(W_1)$ distribution is appropriately integrated to yield numerically magnetization recovery values for specific recovery times $t_i$ from NMR measurements and then a comparison is made with the actual NMR magnetization recovery data using a simple RSS test.\r\n",
    "\r\n",
    "## The second section attempts to optimize the $\\theta$ and $W_1^{\\min}$ estimates (only) by investigating a range of nearby values $\\theta \\pm \\Delta\\theta$ and $W_1^{\\min} \\pm \\Delta W_1^{\\min}$, with $\\Delta\\theta$ and $\\Delta W_1^{\\min}$ defined by the user, searching for the optimal $(\\theta, W_1^{\\min})$ pair of values than minimizes the RSS value. Using then this optimal $(\\theta, W_1^{\\min})$ pair the corresponding $D(W_1)$ is constructed and it is plotted against real data."
   ],
   "metadata": {}
  },
  {
   "cell_type": "markdown",
   "source": [
    "### Open In Colab Badge\r\n",
    "[![Open In Colab](https://colab.research.google.com/assets/colab-badge.svg)](https://colab.research.google.com/github/Stylianos29/NMR-Nematic-Scaling/blob/main/Power_Law_W1_Dist_Test.ipynb)"
   ],
   "metadata": {}
  },
  {
   "cell_type": "markdown",
   "source": [
    "# SECTION I"
   ],
   "metadata": {}
  },
  {
   "cell_type": "code",
   "execution_count": null,
   "source": [
    "%matplotlib inline\r\n",
    "\r\n",
    "# Dependencies\r\n",
    "import matplotlib\r\n",
    "import numpy as np\r\n",
    "import matplotlib.pyplot as plt"
   ],
   "outputs": [],
   "metadata": {}
  },
  {
   "cell_type": "markdown",
   "source": [
    "Here the user can input values for the temperature (critical temperature at 25 K), the exponent of the power law form, and the range $W_1 \\in (W_1^{\\min}, W_1^{\\max})$:"
   ],
   "metadata": {}
  },
  {
   "cell_type": "code",
   "execution_count": null,
   "source": [
    "# Input: Choose an exponent value and a lower bound for the distribution\r\n",
    "temperature_value = 25\r\n",
    "critical_exponent = 0.9#; a = critical_exponent\r\n",
    "W1min = 200; #(1/s)\r\n",
    "W1max = 1000 # No need to change it, power law distrbution values fall off very quickly\r\n",
    "\r\n",
    "# Test W1 distribution symbolic definition\r\n",
    "def W1_distribution(W1, factor, exponent):\r\n",
    "    return factor*W1**(-exponent)\r\n",
    "\r\n",
    "# Number of bins for the W1 distribution histogram\r\n",
    "number_of_bins_W1dist = 1000 # FYI, 100 bins are already quite many\r\n",
    "\r\n",
    "# Constructing the distribution histogram as a list of 2 numpy arrays\r\n",
    "def distribution_histogram(func, number_of_histogram_bins, exponent_parameter, lower_bound, upper_bound):\r\n",
    "    delta_dist = (upper_bound - lower_bound)/number_of_histogram_bins\r\n",
    "    histogram_bins = np.array( [ ( lower_bound + delta_dist * (j + 1/2) ) for j in range(number_of_histogram_bins) ] )\r\n",
    "    distribution_values = func(histogram_bins, 1, exponent_parameter)\r\n",
    "    integral = np.sum(  distribution_values * delta_dist )\r\n",
    "    distribution_values = distribution_values/integral\r\n",
    "    return [histogram_bins, distribution_values]\r\n",
    "\r\n",
    "W1_distribution_histogram = distribution_histogram(W1_distribution, number_of_bins_W1dist, critical_exponent, W1min, W1max)\r\n",
    "\r\n",
    "# Normalization check\r\n",
    "print('The integral of the distribution is =',np.sum(W1_distribution_histogram[1]*((W1max - W1min)/number_of_bins_W1dist)))\r\n",
    "\r\n",
    "# # Plotting the normalized distribution\r\n",
    "\r\n",
    "plt.scatter(W1_distribution_histogram[0], W1_distribution_histogram[1])\r\n",
    "plt.show()"
   ],
   "outputs": [],
   "metadata": {}
  },
  {
   "cell_type": "code",
   "execution_count": null,
   "source": [
    "# Real data import -- no input necessary \r\n",
    "import pandas as pd\r\n",
    "import pprint\r\n",
    "\r\n",
    "#Passing the content of the .csv file to a Pandas DataFrame\r\n",
    "df = pd.read_csv(r'D:\\Dropbox (Personal)\\Purdue University\\2020_C (Fall Term)\\PHYS590 (NMR)\\Python Programs\\NMR_Nematic_Scaling\\NMR_measurements\\Raw Recovery Data x=0.05898 11.7T.csv')\r\n",
    "\r\n",
    "# #Importing the content of the Magnetization_recovery_dict dictionary to a text file\r\n",
    "Magnetization_recovery_dict = {4.5: ['twait_Co5898_4p5K_90deg_T1', 'r_Co5898_4p5K_90deg_T1'], 5.25: ['twait_Co5898_5p25K_90deg_T1', 'r_Co5898_5p25K_90deg_T1'], 6.0: ['twait_Co5898_6K_90deg_T1', 'r_Co5898_6K_90deg_T1'], 7.0: ['twait_Co5898_7K_90deg_T1', 'r_Co5898_7K_90deg_T1'], 8.0: ['twait_Co5898_8K_90deg_T1', 'r_Co5898_8K_90deg_T1'], 9.0: ['twait_Co5898_9K_90deg_T1', 'r_Co5898_9K_90deg_T1'], 10.0: ['twait_Co5898_10K_90deg_T1', 'r_Co5898_10K_90deg_T1'], 11.0: ['twait_Co5898_11K_90deg_T1', 'r_Co5898_11K_90deg_T1'], 12.0: ['twait_Co5898_12K_90deg_T1', 'r_Co5898_12K_90deg_T1'], 13.0: ['twait_Co5898_13K_90deg_T1', 'r_Co5898_13K_90deg_T1'], 15.0: ['twait_Co5898_15K_90deg_T1', 'r_Co5898_15K_90deg_T1'], 16.0: ['twait_Co5898_16K_90deg_T1', 'r_Co5898_16K_90deg_T1'], 17.0: ['twait_Co5898_17K_90deg_T1', 'r_Co5898_17K_90deg_T1'], 18.0: ['twait_Co5898_18K_90deg_T1', 'r_Co5898_18K_90deg_T1'], 19.0: ['twait_Co5898_19K_90deg_T1', 'r_Co5898_19K_90deg_T1'], 20.0: ['twait_Co5898_20K_90deg_T1', 'r_Co5898_20K_90deg_T1'], 21.0: ['twait_Co5898_21K_90deg_T1', 'r_Co5898_21K_90deg_T1'], 22.0: ['twait_Co5898_22K_90deg_T1', 'r_Co5898_22K_90deg_T1'], 23.0: ['twait_Co5898_23K_90deg_T1', 'r_Co5898_23K_90deg_T1'], 24.0: ['twait_Co5898_24K_90deg_T1', 'r_Co5898_24K_90deg_T1'], 25.0: ['twait_Co5898_25K_90deg_T1', 'r_Co5898_25K_90deg_T1'], 26.0: ['twait_Co5898_26K_90deg_T1', 'r_Co5898_26K_90deg_T1'], 27.0: ['twait_Co5898_27K_90deg_T1', 'r_Co5898_27K_90deg_T1'], 28.0: ['twait_Co5898_28K_90deg_T1', 'r_Co5898_28K_90deg_T1'], 29.0: ['twait_Co5898_29K_90deg_T1', 'r_Co5898_29K_90deg_T1'], 30.0: ['twait_Co5898_30K_90deg_T1', 'r_Co5898_30K_90deg_T1'], 32.5: ['twait_Co5898_32p5K_90deg_T1', 'r_Co5898_32p5K_90deg_T1'], 35.0: ['twait_Co5898_35K_90deg_T1', 'r_Co5898_35K_90deg_T1'], 40.0: ['twait_Co5898_40K_90deg_T1', 'r_Co5898_40K_90deg_T1'], 45.0: ['twait_Co5898_45K_90deg_T1', 'r_Co5898_45K_90deg_T1'], 50.0: ['twait_Co5898_50K_90deg_T1', 'r_Co5898_50K_90deg_T1'], 57.5: ['twait_Co5898_57p5K_90deg_T1', 'r_Co5898_57p5K_90deg_T1'], 65.0: ['twait_Co5898_65K_90deg_T1', 'r_Co5898_65K_90deg_T1'], 75.0: ['twait_Co5898_75K_90deg_T1', 'r_Co5898_75K_90deg_T1'], 85.0: ['twait_Co5898_85K_90deg_T1', 'r_Co5898_85K_90deg_T1'], 100.0: ['twait_Co5898_100K_90deg_T1', 'r_Co5898_100K_90deg_T1'], 150.0: ['twait_Co5898_150K_90deg_T1', 'r_Co5898_150K_90deg_T1'], 200.0: ['twait_Co5898_200K_90deg_T1', 'r_Co5898_200K_90deg_T1'], 250.0: ['twait_Co5898_250K_90deg_T1', 'r_Co5898_250K_90deg_T1'], 300.0: ['twait_Co5898_300K_90deg_T1', 'r_Co5898_300K_90deg_T1']}\r\n",
    "# pprint.pprint(Magnetization_recovery_dict)\r\n",
    "\r\n",
    "temperature_value = float(temperature_value)\r\n",
    "# for temperature_value in Magnetization_recovery_dict.keys():\r\n",
    "Recovery_times = np.array(df[Magnetization_recovery_dict[temperature_value][0]])\r\n",
    "Recovery_times = Recovery_times[np.logical_not(np.isnan( Recovery_times ))]\r\n",
    "Magnetization_curve = np.array(df[Magnetization_recovery_dict[temperature_value][1]])\r\n",
    "Magnetization_curve = Magnetization_curve[np.logical_not(np.isnan( Magnetization_curve ))]\r\n",
    "\r\n",
    "#Making sure that all time recovery values are in ascenting order\r\n",
    "array_indices = Recovery_times.argsort()\r\n",
    "Recovery_times = Recovery_times[array_indices[::1]]\r\n",
    "Magnetization_curve = Magnetization_curve[array_indices[::1]]\r\n",
    "\r\n",
    "#Normalized data\r\n",
    "Magnetization_curve = ( Magnetization_curve - min(Magnetization_curve) ) / ( max(Magnetization_curve) - min(Magnetization_curve) )"
   ],
   "outputs": [],
   "metadata": {}
  },
  {
   "cell_type": "code",
   "execution_count": null,
   "source": [
    "# No input necessary\r\n",
    "# Magnetization recovery function\r\n",
    "def Recovery_function(x):\r\n",
    "    return 1 - (9.0/10.0) * np.exp(-6*x)- (1.0/10.0) * np.exp(-x)\r\n",
    "\r\n",
    "# Magnetization integral definition\r\n",
    "def magnetization_integral(distribution_array, time_variable, lower_bound, upper_bound):\r\n",
    "    number_of_bins = len(distribution_array)\r\n",
    "    delta_dist = (upper_bound - lower_bound)/number_of_bins\r\n",
    "    delta_area = np.array( [ (distribution_array[i] * Recovery_function( ( lower_bound + delta_dist*(i+1/2) ) * time_variable ) * delta_dist) for i in range(number_of_bins) ] )\r\n",
    "    return np.sum(delta_area)\r\n",
    "\r\n",
    "Magnetization_curve_numerical = np.array( [ (magnetization_integral( W1_distribution_histogram[1], experimental_time, W1min, W1max)) for experimental_time in Recovery_times ] )\r\n",
    "RSS = np.sum( (Magnetization_curve_numerical - Magnetization_curve)**2 )"
   ],
   "outputs": [],
   "metadata": {}
  },
  {
   "cell_type": "markdown",
   "source": [
    "Next follows the plot of the numerically calculated values of the magnetization recovery against for the test distribution $D(W_1)$ against real data for the choose temperature value."
   ],
   "metadata": {}
  },
  {
   "cell_type": "code",
   "execution_count": null,
   "source": [
    "fig, ax = plt.subplots()\r\n",
    "\r\n",
    "ax.scatter(Recovery_times, Magnetization_curve, s=20, color='black', marker=\"*\")\r\n",
    "ax.scatter(Recovery_times, Magnetization_curve_numerical, s=20, color='red', marker=\".\")\r\n",
    "\r\n",
    "ax.grid()\r\n",
    "ax.set_xscale('log')\r\n",
    "\r\n",
    "ax.set_title('Magnetization Recovery', pad=15)\r\n",
    "ax.set(xlabel='Recovery time (s)', ylabel='Normalized magnetization Recovery')\r\n",
    "\r\n",
    "ax.legend(['Numerical data (RSS={:.2f})'.format(RSS), 'NMR data'], loc='upper left')\r\n",
    "plt.show()"
   ],
   "outputs": [],
   "metadata": {}
  },
  {
   "cell_type": "markdown",
   "source": [
    "# SECTION II"
   ],
   "metadata": {}
  },
  {
   "cell_type": "markdown",
   "source": [
    "Next the user can choose the range of investigated values for the $\\theta$ and $W_1^{\\min}$ parameters."
   ],
   "metadata": {}
  },
  {
   "cell_type": "code",
   "execution_count": null,
   "source": [
    "#input\r\n",
    "N = 10\r\n",
    "W1min_range = 250\r\n",
    "critical_exponent_range = 0.8\r\n",
    "\r\n",
    "# Construct and initialize the NxN RSS array\r\n",
    "RSS_array = np.zeros((N,N))\r\n",
    "# Construct two arrays with the W1min and critical exponent values to be investigated\r\n",
    "#make sure that the invastigated ranges starts above W1min = 0\r\n",
    "W1_range_min = W1min - W1min_range/2\r\n",
    "if (W1min - W1min_range/2)<0:\r\n",
    "    W1_range_min = 0\r\n",
    "W1_range_array = np.array( [ ( W1_range_min+(W1min_range/N)*j ) for j in range(N) ] )\r\n",
    "#make sure that the invastigated ranges starts above critical_exponent = 0\r\n",
    "critical_exponent_min = critical_exponent - critical_exponent_range/2\r\n",
    "if (critical_exponent - critical_exponent_range/2)<0:\r\n",
    "    critical_exponent_min = 0\r\n",
    "critical_exponent_array = np.array( [ ( critical_exponent_min+(critical_exponent_range/N)*j ) for j in range(N) ] )\r\n",
    "\r\n",
    "# Calculating the RSS array values\r\n",
    "for i in range(N):\r\n",
    "    critical_exponent = critical_exponent_array[i]\r\n",
    "    for j in range(N):\r\n",
    "        W1min = W1_range_array[j]\r\n",
    "        W1_distribution_histogram = distribution_histogram(W1_distribution, number_of_bins_W1dist, critical_exponent, W1min, W1max)\r\n",
    "        Magnetization_curve_numerical = np.array( [ ( magnetization_integral(W1_distribution_histogram[1], experimental_time, W1min, W1max) ) for experimental_time in Recovery_times ] )\r\n",
    "        RSS_array[i][j] = np.sum( (Magnetization_curve_numerical - Magnetization_curve)**2 )"
   ],
   "outputs": [],
   "metadata": {}
  },
  {
   "cell_type": "markdown",
   "source": [
    "A heatmap then indicates the values of RSS for various $(\\theta, W_1^{\\min})$ pairs:"
   ],
   "metadata": {}
  },
  {
   "cell_type": "code",
   "execution_count": null,
   "source": [
    "# Plotting the RSS heatmap\r\n",
    "b, a = np.meshgrid(W1_range_array, critical_exponent_array)\r\n",
    "\r\n",
    "c = RSS_array\r\n",
    "# c = c[:-1, :-1]\r\n",
    "l_a = a.min()\r\n",
    "r_a = a.max()\r\n",
    "l_b = b.min()\r\n",
    "r_b = b.max()\r\n",
    "l_c, r_c  = np.amin(c), np.max(c)\r\n",
    "\r\n",
    "figure, axes = plt.subplots()\r\n",
    "\r\n",
    "c = axes.pcolormesh(a, b, c, cmap='coolwarm', vmin=l_c, vmax=r_c, shading='auto')\r\n",
    "axes.set_title('Heatmap')\r\n",
    "axes.axis([l_a, r_a, l_b, r_b])\r\n",
    "figure.colorbar(c)\r\n",
    "\r\n",
    "plt.show()"
   ],
   "outputs": [],
   "metadata": {}
  },
  {
   "cell_type": "markdown",
   "source": [
    "Finally the plot of the numerically calculated values of the magnetization recovery for the distribution $D(W_1)$ of the optimal $(\\theta, W_1^{\\min})$ pair against real data for the choose temperature value follows:"
   ],
   "metadata": {}
  },
  {
   "cell_type": "code",
   "execution_count": null,
   "source": [
    "# Plot the numerical sets with the lowest RSS\r\n",
    "RSS_minimum = np.array( np.where(RSS_array == np.amin(RSS_array) ) )\r\n",
    "RSS = RSS_array[ RSS_minimum[0][0] ][ RSS_minimum[1][0] ]\r\n",
    "W1min = W1_range_array[ RSS_minimum[1][0] ]\r\n",
    "critical_exponent = critical_exponent_array[ RSS_minimum[0][0] ]\r\n",
    "\r\n",
    "print(\"Optimal W1min value: {:.1f}\".format(W1min)+\" and critical exponent value: {:.2f}\".format(critical_exponent))\r\n",
    "\r\n",
    "W1_distribution_histogram = distribution_histogram(W1_distribution, number_of_bins_W1dist, critical_exponent, W1min, W1max)\r\n",
    "Magnetization_curve_numerical = np.array( [ ( magnetization_integral(W1_distribution_histogram[1], experimental_time, W1min, W1max) ) for experimental_time in Recovery_times ] )\r\n",
    "\r\n",
    "fig, ax = plt.subplots()\r\n",
    "\r\n",
    "ax.scatter(Recovery_times, Magnetization_curve, s=20, color='black', marker=\"*\")\r\n",
    "ax.scatter(Recovery_times, Magnetization_curve_numerical, s=20, color='red', marker=\".\")\r\n",
    "\r\n",
    "ax.grid()\r\n",
    "ax.set_xscale('log')\r\n",
    "\r\n",
    "ax.set_title('Magnetization Recovery', pad=15)\r\n",
    "ax.set(xlabel='Recovery time (s)', ylabel='Normalized magnetization Recovery')\r\n",
    "\r\n",
    "ax.legend(['Numerical data (RSS={:.3f})'.format(RSS), 'NMR data'], loc='upper left')\r\n",
    "plt.show()"
   ],
   "outputs": [],
   "metadata": {}
  }
 ],
 "metadata": {
  "orig_nbformat": 4,
  "language_info": {
   "name": "python",
   "version": "3.7.3",
   "mimetype": "text/x-python",
   "codemirror_mode": {
    "name": "ipython",
    "version": 3
   },
   "pygments_lexer": "ipython3",
   "nbconvert_exporter": "python",
   "file_extension": ".py"
  },
  "kernelspec": {
   "name": "python3",
   "display_name": "Python 3.7.3 64-bit"
  },
  "interpreter": {
   "hash": "ef1a5d0b392b78fa6b938496ed158b31a5708e64beeadf2ab287f2b43192d531"
  }
 },
 "nbformat": 4,
 "nbformat_minor": 2
}