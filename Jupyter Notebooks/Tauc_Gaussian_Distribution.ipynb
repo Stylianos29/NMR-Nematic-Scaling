{
  "nbformat": 4,
  "nbformat_minor": 0,
  "metadata": {
    "colab": {
      "name": "Tauc_Gaussian_Distribution",
      "provenance": [],
      "collapsed_sections": [],
      "authorship_tag": "ABX9TyNON93LqudwMcn8bqoQ5ln7",
      "include_colab_link": true
    },
    "kernelspec": {
      "name": "python3",
      "display_name": "Python 3"
    },
    "language_info": {
      "name": "python"
    }
  },
  "cells": [
    {
      "cell_type": "markdown",
      "metadata": {
        "id": "view-in-github",
        "colab_type": "text"
      },
      "source": [
        "<a href=\"https://colab.research.google.com/github/Stylianos29/NMR-Nematic-Scaling/blob/main/Jupyter%20Notebooks/Tauc_Gaussian_Distribution.ipynb\" target=\"_parent\"><img src=\"https://colab.research.google.com/assets/colab-badge.svg\" alt=\"Open In Colab\"/></a>"
      ]
    },
    {
      "cell_type": "code",
      "metadata": {
        "id": "_O0AusT-AoNo",
        "colab": {
          "base_uri": "https://localhost:8080/"
        },
        "cellView": "form",
        "outputId": "ac41d356-0dda-4eee-ccd2-49e29424bf65"
      },
      "source": [
        "#@title Dependencies\n",
        "import numpy as np\n",
        "import matplotlib.pyplot as plt\n",
        "import pandas as pd\n",
        "import pprint\n",
        "import scipy.stats\n",
        "import os\n",
        "import ast\n",
        "from google.colab import drive\n",
        "drive.mount('/content/drive')"
      ],
      "execution_count": null,
      "outputs": [
        {
          "output_type": "stream",
          "name": "stdout",
          "text": [
            "Drive already mounted at /content/drive; to attempt to forcibly remount, call drive.mount(\"/content/drive\", force_remount=True).\n"
          ]
        }
      ]
    },
    {
      "cell_type": "code",
      "metadata": {
        "colab": {
          "base_uri": "https://localhost:8080/"
        },
        "id": "Lcgh7ugmCQSa",
        "cellView": "form",
        "outputId": "ab08c78d-c625-44ad-ec74-0040273f1379"
      },
      "source": [
        "#@title User input\n",
        "\n",
        "# Experimental values of parameters\n",
        "W1maxTauC = 120 #Hz\n",
        "gyromagnetic_ratio = 7.2919e6 #Hz/Teslas\n",
        "magnetic_field = 11.7 #Teslas\n",
        "omega_Larmor = gyromagnetic_ratio * magnetic_field\n",
        "tauC_resonance = 1/omega_Larmor\n",
        "kB = 8.617333262145e-5 #units: eV/K\n",
        "\n",
        "# User input\n",
        "temperature_value = 26 # Critical temperature at about 25K\n",
        "critical_exponent = 0.9 #initial critical exponent value\n",
        "tauC_lower_bound = 0.5*tauC_resonance # initial\n",
        "tauC_upper_bound = 1e1 #seconds\n",
        "W1max_safety_margin = 0.99*W1maxTauC\n",
        "tauC_mean = 0.5*tauC_resonance # initial\n",
        "tauC_standard_deviation = 1e-9\n",
        "time_scale = 1e-9 #nano-seconds\n",
        "# the range of investigation\n",
        "tauC_lower_bound_range_min = 0.005*tauC_resonance\n",
        "tauC_lower_bound_range_max = tauC_resonance\n",
        "tauC_attempt = 1e-12\n",
        "\n",
        "# Number of bins for the W1 distribution histogram\n",
        "number_of_bins_distribution = 100000 # FYI 100 bins are already many\n",
        "\n",
        "print('T = {:.2f} K'.format(temperature_value))\n",
        "print('W1max = {:.2f} Hz'.format(W1maxTauC))\n",
        "print('ωL = {:.2f} MHz'.format(omega_Larmor/1e6))\n",
        "print('Resonance τC = {:.2f} ns'.format(tauC_resonance/time_scale))"
      ],
      "execution_count": null,
      "outputs": [
        {
          "output_type": "stream",
          "name": "stdout",
          "text": [
            "T = 26.00 K\n",
            "W1max = 120.00 Hz\n",
            "ωL = 85.32 MHz\n",
            "Resonance τC = 11.72 ns\n"
          ]
        }
      ]
    },
    {
      "cell_type": "code",
      "metadata": {
        "id": "nM9N6gAPCWZn",
        "cellView": "form"
      },
      "source": [
        "#@title Functions Definitions\n",
        "\n",
        "# Choice of a test function for the oscillation times\n",
        "# def tauC_distribution_function(tauC, *distribution_arguments):\n",
        "#     lower_cut_off = distribution_arguments[0]\n",
        "#     exponent = distribution_arguments[1]\n",
        "#     return np.heaviside(tauC-lower_cut_off, 0)*tauC**(-exponent)\n",
        "\n",
        "def tauC_distribution_function(tauC, *distribution_arguments):\n",
        "    mean = distribution_arguments[0]\n",
        "    standard_deviation = distribution_arguments[1]\n",
        "    return scipy.stats.norm(mean, standard_deviation).pdf(tauC)\n",
        "\n",
        "# Symbolic relations\n",
        "#Stretched exponential recovery function for I=1/2\n",
        "def stretched_recovery_function(x, M0, phi, alpha, beta):\n",
        "    return ( M0*(1 - 2*phi*( (9/10)*np.exp(-pow((6*alpha*x), beta) ) -\n",
        "                                (1/10)*np.exp(-pow((alpha*x), beta) ) ) ) )\n",
        "\n",
        "def W1_relation_tauC(tauC, W1maxTauC, omega_Larmor):\n",
        "    return 2*W1maxTauC * (omega_Larmor*tauC)/(1+(omega_Larmor*tauC)**2)\n",
        "\n",
        "def tauC_relation_W1_minus(W1, W1maxTauC, omega_Larmor):\n",
        "    ratio_W1 = W1maxTauC/W1\n",
        "    return ( ratio_W1 - np.sqrt(ratio_W1**2-1) )/omega_Larmor\n",
        "    \n",
        "def tauC_relation_W1_plus(W1, W1maxTauC, omega_Larmor):\n",
        "    ratio_W1 = W1maxTauC/W1\n",
        "    return ( ratio_W1 + np.sqrt(ratio_W1**2-1) )/omega_Larmor\n",
        "\n",
        "# def W1_distribution_from_tauC(W1, upper_bound, cue,\n",
        "#                               *tauC_distribution_function_arguments):\n",
        "#     ratio = upper_bound/W1\n",
        "#     minus_branch = ( tauC_distribution_function(tauC_relation_W1_minus(\n",
        "#         W1, upper_bound, omega_Larmor), *tauC_distribution_function_arguments)\n",
        "#              * (1/(omega_Larmor*upper_bound)) *\n",
        "#                                 (- ratio**2 + ratio**3/np.sqrt(ratio**2-1)) )\n",
        "#     plus_branch = ( tauC_distribution_function(tauC_relation_W1_plus(\n",
        "#         W1, upper_bound, omega_Larmor), *tauC_distribution_function_arguments)\n",
        "#                 * (1/(omega_Larmor*upper_bound)) *\n",
        "#                                     (ratio**2 + ratio**3/np.sqrt(ratio**2-1)) )\n",
        "#     return cue*minus_branch + plus_branch\n",
        "\n",
        "\n",
        "def W1_distribution_from_tauC_minus(W1, upper_bound,\n",
        "                              *tauC_distribution_function_arguments):\n",
        "    ratio = upper_bound/W1\n",
        "    minus_branch = ( tauC_distribution_function(tauC_relation_W1_minus(\n",
        "        W1, upper_bound, omega_Larmor), *tauC_distribution_function_arguments)\n",
        "             * (1/(omega_Larmor*upper_bound)) *\n",
        "                                (- ratio**2 + ratio**3/np.sqrt(ratio**2-1)) )\n",
        "    \n",
        "    return minus_branch\n",
        "\n",
        "def W1_distribution_from_tauC_plus(W1, upper_bound,\n",
        "                              *tauC_distribution_function_arguments):\n",
        "    ratio = upper_bound/W1\n",
        "    plus_branch = ( tauC_distribution_function(tauC_relation_W1_plus(\n",
        "        W1, upper_bound, omega_Larmor), *tauC_distribution_function_arguments)\n",
        "                * (1/(omega_Larmor*upper_bound)) *\n",
        "                                    (ratio**2 + ratio**3/np.sqrt(ratio**2-1)) )\n",
        "    return plus_branch\n",
        "\n",
        "# Distribution construction\n",
        "def histogram_bins(lower_bound, upper_bound, number_of_bins):\n",
        "    bin_width = (upper_bound - lower_bound)/number_of_bins\n",
        "    bins_array = np.array( [ ( lower_bound + bin_width * (j + 0*1/2) )\n",
        "                                            for j in range(number_of_bins) ] )\n",
        "    return bins_array\n",
        "\n",
        "def histogram_distribution_values(histogram_bins, distribution_function,\n",
        "                                            *distribution_function_arguments):\n",
        "    bins_width = (max(histogram_bins) - min(histogram_bins))/(\n",
        "                                                        len(histogram_bins)-1)\n",
        "    histogram_bins = np.array(histogram_bins)\n",
        "    non_normalized_distribution_values = distribution_function(histogram_bins,\n",
        "                                            *distribution_function_arguments)\n",
        "    # integral = np.sum( non_normalized_distribution_values)*bins_width\n",
        "    #return non_normalized_distribution_values/integral\n",
        "    return non_normalized_distribution_values\n",
        "\n",
        "#normalization_check\n",
        "def distribution_integral(histogram_bins_array, histogram_values_array):\n",
        "    histogram_bins_array = np.array(histogram_bins_array)\n",
        "    histogram_values_array = np.array(histogram_values_array)\n",
        "    bin_width = (max(histogram_bins_array) - min(histogram_bins_array))/(\n",
        "                                                len(histogram_bins_array)-1)\n",
        "    return np.sum(histogram_values_array)*bin_width\n",
        "\n",
        "# Plotting\n",
        "def plot_histogram(histogram_bins, histogram_values, histogram_title = '',\n",
        "        x_axis_label = '', y_axis_label = '', x_axis_scale = 'linear',\n",
        "            y_axis_scale = 'linear'):\n",
        "    fig, ax = plt.subplots()\n",
        "    ax.scatter(histogram_bins, histogram_values, marker=\".\")\n",
        "    ax.grid()\n",
        "    ax.set_xscale(x_axis_scale)\n",
        "    ax.set_yscale(y_axis_scale)\n",
        "    ax.set_title(histogram_title, pad=15)\n",
        "    ax.set(xlabel = x_axis_label, ylabel = y_axis_label)\n",
        "    plt.show()\n",
        "\n",
        "# Magnetization recovery function\n",
        "def recovery_function(x):\n",
        "    return 1 - 0.9 * np.exp(-6*x) - 0.1 * np.exp(-x)\n",
        "\n",
        "# Magnetization integral definition\n",
        "def magnetization_integral(W1_histogram_bins, W1_histogram_values,\n",
        "                                                                recovery_time):\n",
        "    bins_width = (max(W1_histogram_bins) - min(W1_histogram_bins))/(\n",
        "                                                    len(W1_histogram_bins)-1)\n",
        "    return np.sum(W1_histogram_values*np.abs(recovery_function(W1_histogram_bins\n",
        "                                                    *recovery_time)))*bins_width\n",
        "    # recovery_function_array = recovery_function(W1_histogram_bins*recovery_time)\n",
        "    # recovery_function_array[recovery_function_array<0]=0\n",
        "    # return np.sum(W1_histogram_values*recovery_function_array)*bins_width\n",
        "\n",
        "def RSS_calculation(numerical_data, real_data):\n",
        "    return np.sum( (numerical_data - real_data)**2 )"
      ],
      "execution_count": null,
      "outputs": []
    },
    {
      "cell_type": "markdown",
      "metadata": {
        "id": "Ppf4esFvfT1g"
      },
      "source": [
        "$$D(\\tau_c) = \\frac{1}{\\sigma \\sqrt{2 \\pi}} \\exp\\!\\left[ {-\\frac{1}{2} \\left(\\frac{\\tau_c-\\mu}{\\sigma} \\right)^2 } \\right]$$"
      ]
    },
    {
      "cell_type": "code",
      "metadata": {
        "colab": {
          "base_uri": "https://localhost:8080/",
          "height": 429
        },
        "id": "-LZOaaiWCri1",
        "cellView": "form",
        "outputId": "d8acdb50-5b30-4ff4-a4bb-d202c3885306"
      },
      "source": [
        "#@title Distribution of $\\tau_c$ values\n",
        "\n",
        "tauC_histogram_bins = histogram_bins(tauC_attempt, tauC_resonance, \n",
        "                                                number_of_bins_distribution)\n",
        "tauC_distribution_histogram = histogram_distribution_values(\n",
        "      tauC_histogram_bins, tauC_distribution_function,\n",
        "        tauC_mean, tauC_standard_deviation)\n",
        "\n",
        "tauC_distribution_integral_initial = distribution_integral(\n",
        "                        tauC_histogram_bins, tauC_distribution_histogram)\n",
        "\n",
        "tauC_distribution_histogram = (tauC_distribution_histogram\n",
        "                               /tauC_distribution_integral_initial)\n",
        "\n",
        "plot_histogram(tauC_histogram_bins,\n",
        "               tauC_distribution_histogram,\n",
        "histogram_title = 'Logarithmic plot of the Distribution of ${\\\\tau}_C$ values',\n",
        "        x_axis_label = '${\\\\tau}_C$ (s)',\n",
        "            y_axis_label = 'D(${\\\\tau}_C$) (Hz)')#, x_axis_scale='log')\n",
        "\n",
        "print('Normalization check: total sum = {:.2f}'.format(distribution_integral(\n",
        "                          tauC_histogram_bins, tauC_distribution_histogram)))\n",
        "print('\\n')\n",
        "print('Initial lower τC cut-off = {:.2e} s'.format(tauC_histogram_bins[0]))\n",
        "print('Initial upper τC cut-off = {:.2e} s'.format(tauC_histogram_bins[-1]))\n",
        "print('Initial mean value = {:.2e}'.format(tauC_mean))\n",
        "print('Initial standard deviation value = {:.2e}'.format(\n",
        "    tauC_standard_deviation))"
      ],
      "execution_count": null,
      "outputs": [
        {
          "output_type": "display_data",
          "data": {
            "image/png": "[encoded data removed]",
            "text/plain": [
              "<Figure size 432x288 with 1 Axes>"
            ]
          },
          "metadata": {
            "needs_background": "light"
          }
        },
        {
          "output_type": "stream",
          "name": "stdout",
          "text": [
            "Normalization check: total sum = 1.00\n",
            "\n",
            "\n",
            "Initial lower τC cut-off = 1.00e-12 s\n",
            "Initial upper τC cut-off = 1.17e-08 s\n",
            "Initial mean value = 5.86e-09\n",
            "Initial standard deviation value = 1.00e-09\n"
          ]
        }
      ]
    },
    {
      "cell_type": "code",
      "metadata": {
        "colab": {
          "base_uri": "https://localhost:8080/",
          "height": 310
        },
        "id": "qH6bq8KyClxV",
        "cellView": "form",
        "outputId": "39fe0e93-84e9-4c0b-c16a-9e53b7bfc75b"
      },
      "source": [
        "#@title Relation beetween $W_1$ and $\\tau_C$: $W_1 = 2 W_1^{\\max} \\frac{\\omega_L \\tau_C}{1 + (\\omega_L \\tau_C)^2}$\n",
        "\n",
        "tauC_min = tauC_attempt\n",
        "tauC_max = 2.0*tauC_resonance\n",
        "tauC_bins = histogram_bins(tauC_min, tauC_max, number_of_bins_distribution)\n",
        "W1_values = W1_relation_tauC(tauC_bins, W1maxTauC, omega_Larmor)\n",
        "\n",
        "fig, ax = plt.subplots()\n",
        "ax.scatter(tauC_bins/time_scale, W1_values, marker=\".\", label='$W1(\\\\tau_C)$ Relation ')\n",
        "ax.grid()\n",
        "ax.axvline(x=tauC_mean/time_scale, color='black',\n",
        "           linestyle='-', label='Initial mean value at {:.2f} ns'.format(\n",
        "               tauC_mean/time_scale))\n",
        "ax.axvline(x=tauC_lower_bound_range_min/time_scale, color='red',\n",
        "           linestyle='-', label='Lower cut-off min at {:.2f} ns'.format(\n",
        "               tauC_lower_bound_range_min/time_scale))\n",
        "ax.axvline(x=tauC_lower_bound_range_max/time_scale, color='red', linestyle='-',\n",
        "      label='Lower cut-off max at {:.2f} ns'.format(tauC_lower_bound_range_max/time_scale))\n",
        "ax.axvline(x=tauC_resonance/time_scale, color='green', linestyle='-',\n",
        "           label='Resonance time at {:.2f} ns'.format(tauC_resonance/time_scale))\n",
        "ax.set_title('Relation beetween $W_1$ and $\\\\tau_C$', pad=15)\n",
        "ax.set(xlabel = '${\\\\tau}_C$ (ns)', ylabel = '$W_1$ (Hz)')\n",
        "plt.legend()\n",
        "plt.show()"
      ],
      "execution_count": null,
      "outputs": [
        {
          "output_type": "display_data",
          "data": {
            "image/png": "[encoded data removed]",
            "text/plain": [
              "<Figure size 432x288 with 1 Axes>"
            ]
          },
          "metadata": {
            "needs_background": "light"
          }
        }
      ]
    },
    {
      "cell_type": "code",
      "metadata": {
        "colab": {
          "base_uri": "https://localhost:8080/",
          "height": 410
        },
        "id": "MNB8fhOtCv4s",
        "cellView": "form",
        "outputId": "5397648a-6d61-49bd-b6ff-45b4b2d5e093"
      },
      "source": [
        "#@title Distribution of the relaxation rates\n",
        "\n",
        "tauC_histogram_bins = histogram_bins(tauC_attempt, tauC_upper_bound, \n",
        "                                                number_of_bins_distribution)\n",
        "tauC_distribution_histogram = histogram_distribution_values(\n",
        "      tauC_histogram_bins, tauC_distribution_function,\n",
        "        tauC_mean, tauC_standard_deviation)\n",
        "\n",
        "tauC_distribution_integral_initial = distribution_integral(\n",
        "                        tauC_histogram_bins, tauC_distribution_histogram)\n",
        "\n",
        "tauC_distribution_histogram = (tauC_distribution_histogram\n",
        "                               /tauC_distribution_integral_initial)\n",
        "\n",
        "tauC_intermediate = tauC_relation_W1_plus(W1_relation_tauC(\n",
        "    tauC_histogram_bins[0], W1maxTauC, omega_Larmor), W1maxTauC, omega_Larmor)\n",
        "tauC_intermediate_index = (len(tauC_histogram_bins)\n",
        "  -len(tauC_histogram_bins[tauC_histogram_bins > tauC_intermediate]))\n",
        "tauC_distribution_integral_lower = distribution_integral(\n",
        "    tauC_histogram_bins[tauC_intermediate_index:],\n",
        "      tauC_distribution_histogram[tauC_intermediate_index:])\n",
        "tauC_distribution_integral_upper = distribution_integral(\n",
        "    tauC_histogram_bins[:tauC_intermediate_index],\n",
        "      tauC_distribution_histogram[:tauC_intermediate_index])\n",
        "\n",
        "W1_lower_bound_minus = W1_relation_tauC(tauC_histogram_bins[0], W1maxTauC,\n",
        "                                                              omega_Larmor)\n",
        "W1_lower_bound_plus = W1_relation_tauC(tauC_histogram_bins[-1], W1maxTauC,\n",
        "                                                              omega_Larmor)\n",
        "\n",
        "W1_intermediate = max(W1_lower_bound_minus, W1_lower_bound_plus)\n",
        "W1_lower_bound = min(W1_lower_bound_minus, W1_lower_bound_plus) #0.0001*W1_intermediate\n",
        "\n",
        "W1_histogram_bins = np.array(histogram_bins(W1_lower_bound, W1maxTauC,\n",
        "                                                number_of_bins_distribution))\n",
        "\n",
        "W1_distribution_histogram_lower = histogram_distribution_values(\n",
        "    W1_histogram_bins[W1_histogram_bins < W1_intermediate],\n",
        "      W1_distribution_from_tauC_plus, W1maxTauC,\n",
        "          tauC_mean, tauC_standard_deviation)\n",
        "\n",
        "W1_distribution_histogram_upper_minus = histogram_distribution_values(\n",
        "    W1_histogram_bins[W1_histogram_bins > W1_intermediate],\n",
        "      W1_distribution_from_tauC_minus, W1maxTauC,\n",
        "          tauC_mean, tauC_standard_deviation)\n",
        "\n",
        "W1_distribution_histogram_upper_plus = histogram_distribution_values(\n",
        "    W1_histogram_bins[W1_histogram_bins > W1_intermediate],\n",
        "      W1_distribution_from_tauC_plus, W1maxTauC,\n",
        "          tauC_mean, tauC_standard_deviation)\n",
        "\n",
        "W1_distribution_histogram_upper = (W1_distribution_histogram_upper_plus\n",
        "                                   + W1_distribution_histogram_upper_minus)\n",
        "\n",
        "W1_distribution_histogram_lower_integral = distribution_integral(W1_histogram_bins[W1_histogram_bins < W1_intermediate], W1_distribution_histogram_lower)\n",
        "W1_distribution_histogram_upper_integral = distribution_integral(W1_histogram_bins[W1_histogram_bins > W1_intermediate], W1_distribution_histogram_upper)\n",
        "\n",
        "if (W1_distribution_histogram_lower_integral>0):\n",
        "  W1_distribution_histogram_lower = W1_distribution_histogram_lower*tauC_distribution_integral_lower/W1_distribution_histogram_lower_integral\n",
        "if (W1_distribution_histogram_upper_integral>0):\n",
        "  W1_distribution_histogram_upper = W1_distribution_histogram_upper*tauC_distribution_integral_upper/W1_distribution_histogram_upper_integral\n",
        "\n",
        "W1_distribution_histogram = np.concatenate([W1_distribution_histogram_lower,\n",
        "                                            W1_distribution_histogram_upper])\n",
        "\n",
        "W1_distribution_integral_initial = distribution_integral(W1_histogram_bins,\n",
        "                                                  W1_distribution_histogram)\n",
        "W1_distribution_histogram = (W1_distribution_histogram\n",
        "                                       /W1_distribution_integral_initial)\n",
        "\n",
        "# plot_histogram(W1_histogram_bins[W1_histogram_bins < W1_intermediate],\n",
        "#             W1_distribution_histogram_lower,\n",
        "#     histogram_title = 'Distribution of the relaxation rates for W1 < {:.2f} Hz'.format(W1_intermediate),\n",
        "#         x_axis_label = '$W_1$ (Hz)', y_axis_label = 'D($W_1$) (s)',# x_axis_scale = 'log',\n",
        "#               y_axis_scale = 'log')\n",
        "\n",
        "# plot_histogram(W1_histogram_bins[W1_histogram_bins > W1_intermediate],\n",
        "#             W1_distribution_histogram_upper,\n",
        "#     histogram_title = 'Distribution of the relaxation rates  for W1 > {:.2f} Hz'.format(W1_intermediate),\n",
        "#         x_axis_label = '$W_1$ (Hz)', y_axis_label = 'D($W_1$) (s)',# x_axis_scale = 'log',\n",
        "#               y_axis_scale = 'log')\n",
        "\n",
        "plot_histogram(W1_histogram_bins,\n",
        "               W1_distribution_histogram,\n",
        "    histogram_title = 'Distribution of the relaxation rates',\n",
        "        x_axis_label = '$W_1$ (Hz)', y_axis_label = 'D($W_1$) (s)'),# x_axis_scale = 'log',\n",
        "              # y_axis_scale = 'log')\n",
        "\n",
        "print(\"D(W1={:.2e} Hz) = {:.2f} s\".format(W1_histogram_bins[0], W1_distribution_histogram[0]))\n",
        "print(\"D(W1={:.2f} Hz) = {:.2f} s\".format(W1_histogram_bins[-1], W1_distribution_histogram[-1]))\n",
        "print('Lower cut-off corresponds to W1 = {:.2f} Hz'.format(\n",
        "    W1_relation_tauC(tauC_lower_bound, W1maxTauC, omega_Larmor)) )\n",
        "\n",
        "print('\\n')\n",
        "print('Normalization check: Total sum = {:.2f}'.format(\n",
        "    distribution_integral(W1_histogram_bins, W1_distribution_histogram)))"
      ],
      "execution_count": null,
      "outputs": [
        {
          "output_type": "display_data",
          "data": {
            "image/png": "[encoded data removed]",
            "text/plain": [
              "<Figure size 432x288 with 1 Axes>"
            ]
          },
          "metadata": {
            "needs_background": "light"
          }
        },
        {
          "output_type": "stream",
          "name": "stdout",
          "text": [
            "D(W1=2.81e-07 Hz) = 0.00 s\n",
            "D(W1=120.00 Hz) = 0.00 s\n",
            "Lower cut-off corresponds to W1 = 96.00 Hz\n",
            "\n",
            "\n",
            "Normalization check: Total sum = 1.00\n"
          ]
        }
      ]
    },
    {
      "cell_type": "code",
      "metadata": {
        "colab": {
          "base_uri": "https://localhost:8080/",
          "height": 308
        },
        "id": "JuJ_-zA6Czkr",
        "cellView": "form",
        "outputId": "ee25c6e9-60af-49a7-932a-ce14c6592b2f"
      },
      "source": [
        "#@title Importing actual data\n",
        "\n",
        "NMR_processed_data_output_full_path = os.path.join('/content/drive/My Drive',\n",
        "                                          'Colab Notebooks/NMR_normalized_data')\n",
        "\n",
        "# Passing the content of the .csv file to a Pandas DataFrame\n",
        "magnetization_recovery_normalized_data = pd.read_csv(\n",
        "    os.path.join(NMR_processed_data_output_full_path,\n",
        "                                \"Normalized_raw_data_x=0.05898_H=11.7T.csv\") )\n",
        "\n",
        "# Importing the Magnetization recovery dictionary to a text file\n",
        "magnetization_recovery_text_file_full_path = os.path.join(\n",
        "    NMR_processed_data_output_full_path, \"Recovery_magnetization-time_pairs_\"+\n",
        "        \"per_temperature_dictionary_x=0.05898_H=11.7T.txt\")\n",
        "magnetization_recovery_text_file = open(\n",
        "    magnetization_recovery_text_file_full_path, \"r\")\n",
        "magnetization_recovery_dictionary = magnetization_recovery_text_file.read()\n",
        "magnetization_curve_dictionary = ast.literal_eval(\n",
        "                                        magnetization_recovery_dictionary)\n",
        "magnetization_recovery_text_file.close()\n",
        "#Print statements\n",
        "# pprint.pprint(magnetization_curve_dictionary)\n",
        "\n",
        "# Importing the fit parameters for normalized data text file\n",
        "fit_parameters_for_normalized_data_text_file_full_path = os.path.join(\n",
        "    NMR_processed_data_output_full_path,\n",
        "      \"Fit_parameters_for_normalized_data_dictionary_x=0.05898_H=11.7T.txt\")\n",
        "fit_parameters_for_normalized_data_text_file = open(\n",
        "    fit_parameters_for_normalized_data_text_file_full_path, \"r\")\n",
        "fit_parameters_for_normalized_data_dictionary = fit_parameters_for_normalized_data_text_file.read()\n",
        "fit_parameters_for_normalized_data_dictionary = ast.literal_eval(fit_parameters_for_normalized_data_dictionary)\n",
        "fit_parameters_for_normalized_data_text_file.close()\n",
        "# pprint.pprint(fit_parameters_for_normalized_data_dictionary)\n",
        "\n",
        "temperature_value = float(temperature_value)\n",
        "recovery_times = np.array(magnetization_recovery_normalized_data[\n",
        "                    magnetization_curve_dictionary[temperature_value][0]])\n",
        "recovery_times = recovery_times[np.logical_not(np.isnan( recovery_times ))]\n",
        "magnetization_curve = np.array(magnetization_recovery_normalized_data[\n",
        "                    magnetization_curve_dictionary[temperature_value][1]])\n",
        "magnetization_curve = magnetization_curve[np.logical_not(np.isnan(\n",
        "                                                        magnetization_curve))]\n",
        "\n",
        "# Importing the parameter estimetes for the \n",
        "fit_parameters_for_normalized_data = np.array(fit_parameters_for_normalized_data_dictionary[temperature_value])[:,0]\n",
        "\n",
        "magnetization_curve_stretched_exponential = np.array(stretched_recovery_function(recovery_times,*fit_parameters_for_normalized_data))\n",
        "RSS_stretched_exponential = np.sum((magnetization_curve - magnetization_curve_stretched_exponential)**2)\n",
        "\n",
        "# plotting\n",
        "fig, ax = plt.subplots()\n",
        "ax.scatter(recovery_times, magnetization_curve, s=20, color='black', marker=\"*\")\n",
        "ax.plot(recovery_times, stretched_recovery_function(recovery_times,*fit_parameters_for_normalized_data), linestyle=':', linewidth=2, color='red')\n",
        "ax.grid()\n",
        "ax.set_xscale('log')\n",
        "ax.set_title('Magnetization recovery curve data at T='+'{}'.format(temperature_value), pad=15)\n",
        "ax.set(xlabel='Recovery time (s)', ylabel='Normalized recovery magnetization (arb. units)')\n",
        "ax.legend(['Stretched exponential fit (RSS={:.3f})'.format(RSS_stretched_exponential), 'NMR data'], loc='upper left')\n",
        "plt.show()"
      ],
      "execution_count": null,
      "outputs": [
        {
          "output_type": "display_data",
          "data": {
            "image/png": "[encoded data removed]",
            "text/plain": [
              "<Figure size 432x288 with 1 Axes>"
            ]
          },
          "metadata": {
            "needs_background": "light"
          }
        }
      ]
    },
    {
      "cell_type": "code",
      "metadata": {
        "colab": {
          "base_uri": "https://localhost:8080/",
          "height": 308
        },
        "id": "NZ3HFwAjC8sp",
        "cellView": "form",
        "outputId": "b8cbdd36-8c83-4058-f3fd-32ff4548a201"
      },
      "source": [
        "#@title Comparing numerical values with actual ones\n",
        "\n",
        "# Calculating numerically the recovery magnetization values\n",
        "magnetization_curve_numerical = [ magnetization_integral(W1_histogram_bins,\n",
        "  W1_distribution_histogram, recovery_time) for recovery_time in recovery_times]\n",
        "\n",
        "RSS = RSS_calculation(magnetization_curve_numerical, magnetization_curve)\n",
        "\n",
        "# plotting\n",
        "fig, ax = plt.subplots()\n",
        "\n",
        "ax.scatter(recovery_times, magnetization_curve, s=20, color='black',\n",
        "                                                                    marker=\"*\")\n",
        "ax.scatter(recovery_times, magnetization_curve_numerical, s=20, color='red',\n",
        "                                                                    marker=\".\")\n",
        "\n",
        "ax.grid()\n",
        "ax.set_xscale('log')\n",
        "\n",
        "ax.set_title('Magnetization Recovery Curve', pad=15)\n",
        "ax.set(xlabel='Recovery time (s)', ylabel='Normalized recovery magnetization')\n",
        "\n",
        "ax.legend(['NMR data', 'Numerical data (RSS={:.2f})'.format(RSS)],\n",
        "                                                            loc='upper left')\n",
        "plt.show()"
      ],
      "execution_count": null,
      "outputs": [
        {
          "output_type": "display_data",
          "data": {
            "image/png": "[encoded data removed]",
            "text/plain": [
              "<Figure size 432x288 with 1 Axes>"
            ]
          },
          "metadata": {
            "needs_background": "light"
          }
        }
      ]
    },
    {
      "cell_type": "code",
      "metadata": {
        "id": "KzEf-2u7DMY3",
        "colab": {
          "base_uri": "https://localhost:8080/"
        },
        "cellView": "form",
        "outputId": "0241af90-b0e5-4131-ef7d-373acb370667"
      },
      "source": [
        "#@title Invastigating optimal parameters\n",
        "\n",
        "#input\n",
        "number_of_exploration_attempts = 10\n",
        "\n",
        "tauC_mean_value_range_array = np.array( [ (tauC_lower_bound_range_min*10 +\n",
        "  ((tauC_lower_bound_range_max - tauC_lower_bound_range_min*10)/\n",
        "   number_of_exploration_attempts)*j)\n",
        "    for j in range(number_of_exploration_attempts) ] )\n",
        "\n",
        "tauC_standard_deviation_range_max = 1e-7\n",
        "tauC_standard_deviation_range_min = 1e-10\n",
        "tauC_standard_deviation_array = np.array( [ (tauC_standard_deviation_range_min +\n",
        "  ((tauC_standard_deviation_range_max - tauC_standard_deviation_range_min)/\n",
        "    number_of_exploration_attempts)*j)\n",
        "    for j in range(number_of_exploration_attempts) ] )\n",
        "\n",
        "print('Exploration limits:')\n",
        "print('- Mean values range {:.2f} - {:.2f} ns:'.format(\n",
        "    tauC_mean_value_range_array[0]/time_scale,\n",
        "      tauC_mean_value_range_array[-1]/time_scale))\n",
        "print('- Standard deviation values {:.2f} - {:.2f} ns:'.format(\n",
        "    tauC_standard_deviation_array[0]/time_scale,\n",
        "      tauC_standard_deviation_array[-1]/time_scale))\n",
        "\n",
        "# Construct two arrays with the W1min and critical exponent values to be\n",
        "# investigated make sure that the invastigated ranges starts above W1min = 0\n",
        "RSS_values_array = np.zeros((number_of_exploration_attempts,\n",
        "                             number_of_exploration_attempts))\n",
        "\n",
        "#make sure that the invastigated ranges starts above tauC_standard_deviation = 0\n",
        "\n",
        "# Calculating the RSS array values\n",
        "for i in range(number_of_exploration_attempts):\n",
        "  tauC_standard_deviation = tauC_standard_deviation_array[i]\n",
        "  for j in range(number_of_exploration_attempts):\n",
        "    tauC_mean = tauC_mean_value_range_array[j]\n",
        "\n",
        "    W1_distribution_histogram_lower = histogram_distribution_values(\n",
        "        W1_histogram_bins[W1_histogram_bins < W1_intermediate],\n",
        "          W1_distribution_from_tauC_plus, W1maxTauC,\n",
        "              tauC_mean, tauC_standard_deviation)\n",
        "\n",
        "    W1_distribution_histogram_upper_minus = histogram_distribution_values(\n",
        "        W1_histogram_bins[W1_histogram_bins > W1_intermediate],\n",
        "          W1_distribution_from_tauC_minus, W1maxTauC,\n",
        "              tauC_mean, tauC_standard_deviation)\n",
        "\n",
        "    W1_distribution_histogram_upper_plus = histogram_distribution_values(\n",
        "        W1_histogram_bins[W1_histogram_bins > W1_intermediate],\n",
        "          W1_distribution_from_tauC_plus, W1maxTauC,\n",
        "              tauC_mean, tauC_standard_deviation)\n",
        "\n",
        "    W1_distribution_histogram_upper = (W1_distribution_histogram_upper_plus\n",
        "                                      + W1_distribution_histogram_upper_minus)\n",
        "\n",
        "    W1_distribution_histogram_lower_integral = distribution_integral(W1_histogram_bins[W1_histogram_bins < W1_intermediate], W1_distribution_histogram_lower)\n",
        "    W1_distribution_histogram_upper_integral = distribution_integral(W1_histogram_bins[W1_histogram_bins > W1_intermediate], W1_distribution_histogram_upper)\n",
        "\n",
        "    if (W1_distribution_histogram_lower_integral>0):\n",
        "      W1_distribution_histogram_lower = W1_distribution_histogram_lower*tauC_distribution_integral_lower/W1_distribution_histogram_lower_integral\n",
        "    if (W1_distribution_histogram_upper_integral>0):\n",
        "      W1_distribution_histogram_upper = W1_distribution_histogram_upper*tauC_distribution_integral_upper/W1_distribution_histogram_upper_integral\n",
        "\n",
        "    W1_distribution_histogram = np.concatenate([W1_distribution_histogram_lower,\n",
        "                                                W1_distribution_histogram_upper])\n",
        "\n",
        "    W1_distribution_integral_initial = distribution_integral(W1_histogram_bins,\n",
        "                                                      W1_distribution_histogram)\n",
        "    W1_distribution_histogram = (W1_distribution_histogram\n",
        "                                          /W1_distribution_integral_initial)\n",
        "\n",
        "\n",
        "    magnetization_curve_numerical = [ magnetization_integral(\n",
        "            W1_histogram_bins, W1_distribution_histogram, recovery_time)\n",
        "                                    for recovery_time in recovery_times]\n",
        "    \n",
        "    RSS_values_array[i][j] = RSS_calculation(magnetization_curve_numerical,\n",
        "                                                    magnetization_curve)\n"
      ],
      "execution_count": null,
      "outputs": [
        {
          "output_type": "stream",
          "name": "stdout",
          "text": [
            "Exploration limits:\n",
            "- Mean values range 0.59 - 10.61 ns:\n",
            "- Standard deviation values 0.10 - 90.01 ns:\n"
          ]
        }
      ]
    },
    {
      "cell_type": "code",
      "metadata": {
        "colab": {
          "base_uri": "https://localhost:8080/",
          "height": 333
        },
        "id": "292MqrJcDOIn",
        "cellView": "form",
        "outputId": "4e32a4c7-0a40-46e3-cdeb-f79451730daa"
      },
      "source": [
        "#@title Plotting the RSS heatmap\n",
        "\n",
        "# print(tauC_mean_value_range_array[0]/time_scale)\n",
        "# print(tauC_standard_deviation_array[0]/time_scale)\n",
        "\n",
        "b, a = np.meshgrid(tauC_mean_value_range_array/time_scale,\n",
        "                   tauC_standard_deviation_array/time_scale)\n",
        "\n",
        "c = RSS_values_array\n",
        "# c = c[:-1, :-1]\n",
        "l_a = a.min()\n",
        "r_a = a.max()\n",
        "l_b = b.min()\n",
        "r_b = b.max()\n",
        "l_c, r_c = np.amin(c), np.max(c)\n",
        "\n",
        "figure, axes = plt.subplots()\n",
        "\n",
        "c = axes.pcolormesh(a, b, c, cmap='coolwarm', vmin=l_c, vmax=r_c) #0.05\n",
        "axes.set_title('RSS values heatmap')\n",
        "axes.set_ylabel('Mean $\\\\tau_C$ (ns)')\n",
        "axes.set_xlabel('Standard deviation $\\\\tau_C$ (ns)')\n",
        "axes.axis([l_a, r_a, l_b, r_b])\n",
        "figure.colorbar(c)\n",
        "\n",
        "plt.show()\n",
        "\n",
        "print(\"Minimum RSS value: {:.3f}\".format(l_c))\n",
        "print(\"Maximum RSS value: {:.3f}\".format(r_c))"
      ],
      "execution_count": null,
      "outputs": [
        {
          "output_type": "display_data",
          "data": {
            "image/png": "[encoded data removed]",
            "text/plain": [
              "<Figure size 432x288 with 2 Axes>"
            ]
          },
          "metadata": {
            "needs_background": "light"
          }
        },
        {
          "output_type": "stream",
          "name": "stdout",
          "text": [
            "Minimum RSS value: 0.119\n",
            "Maximum RSS value: 1.948\n"
          ]
        }
      ]
    },
    {
      "cell_type": "code",
      "metadata": {
        "colab": {
          "base_uri": "https://localhost:8080/",
          "height": 1000
        },
        "id": "35JPG0uIDWLC",
        "cellView": "form",
        "outputId": "01f58d0f-ef2d-46b4-f583-1a5138304f5e"
      },
      "source": [
        "#@title Plotting the numerical sets with the lowest RSS\n",
        "\n",
        "RSS_minimum = np.array(np.where(RSS_values_array == np.amin(RSS_values_array)))\n",
        "RSS = RSS_values_array[ RSS_minimum[0][0] ][ RSS_minimum[1][0] ]\n",
        "\n",
        "tauC_mean_value = tauC_mean_value_range_array[ RSS_minimum[1][0] ]\n",
        "tauC_standard_deviation = tauC_standard_deviation_array[ RSS_minimum[0][0] ]\n",
        "\n",
        "print(\"Optimal mean value: {:.3f} ns\".format(\n",
        "    tauC_mean_value/time_scale)+\n",
        "      \" and standad deviation value: {:.2f}\".format(\n",
        "          tauC_standard_deviation/time_scale))\n",
        "\n",
        "W1_distribution_histogram_lower = histogram_distribution_values(\n",
        "    W1_histogram_bins[W1_histogram_bins < W1_intermediate],\n",
        "      W1_distribution_from_tauC_plus, W1maxTauC,\n",
        "          tauC_mean_value, tauC_standard_deviation)\n",
        "\n",
        "W1_distribution_histogram_upper_minus = histogram_distribution_values(\n",
        "    W1_histogram_bins[W1_histogram_bins > W1_intermediate],\n",
        "      W1_distribution_from_tauC_minus, W1maxTauC,\n",
        "          tauC_mean_value, tauC_standard_deviation)\n",
        "\n",
        "W1_distribution_histogram_upper_plus = histogram_distribution_values(\n",
        "    W1_histogram_bins[W1_histogram_bins > W1_intermediate],\n",
        "      W1_distribution_from_tauC_plus, W1maxTauC,\n",
        "          tauC_mean_value, tauC_standard_deviation)\n",
        "\n",
        "W1_distribution_histogram_upper = (W1_distribution_histogram_upper_plus\n",
        "                                   + W1_distribution_histogram_upper_minus)\n",
        "\n",
        "W1_distribution_histogram_lower_integral = distribution_integral(W1_histogram_bins[W1_histogram_bins < W1_intermediate], W1_distribution_histogram_lower)\n",
        "W1_distribution_histogram_upper_integral = distribution_integral(W1_histogram_bins[W1_histogram_bins > W1_intermediate], W1_distribution_histogram_upper)\n",
        "\n",
        "if (W1_distribution_histogram_lower_integral>0):\n",
        "  W1_distribution_histogram_lower = W1_distribution_histogram_lower*tauC_distribution_integral_lower/W1_distribution_histogram_lower_integral\n",
        "if (W1_distribution_histogram_upper_integral>0):\n",
        "  W1_distribution_histogram_upper = W1_distribution_histogram_upper*tauC_distribution_integral_upper/W1_distribution_histogram_upper_integral\n",
        "\n",
        "W1_distribution_histogram = np.concatenate([W1_distribution_histogram_lower,\n",
        "                                            W1_distribution_histogram_upper])\n",
        "\n",
        "W1_distribution_integral_initial = distribution_integral(W1_histogram_bins,\n",
        "                                                  W1_distribution_histogram)\n",
        "W1_distribution_histogram = (W1_distribution_histogram\n",
        "                                       /W1_distribution_integral_initial)\n",
        "\n",
        "magnetization_curve_numerical = [ magnetization_integral(\n",
        "        W1_histogram_bins, W1_distribution_histogram, recovery_time)\n",
        "                                for recovery_time in recovery_times]\n",
        "\n",
        "\n",
        "fig, ax = plt.subplots()\n",
        "ax.scatter(recovery_times, magnetization_curve, s=20, color='black',\n",
        "                                                                  marker=\"*\")\n",
        "ax.scatter(recovery_times, magnetization_curve_numerical, s=20, color='red',\n",
        "                                                                  marker=\".\")\n",
        "ax.grid()\n",
        "ax.set_xscale('log')\n",
        "ax.set_title('Magnetization Recovery Curve', pad=15)\n",
        "ax.set(xlabel='Recovery time (s)', ylabel='Normalized recovery magnetization')\n",
        "ax.legend(['NMR data', 'Numerical data (RSS={:.3f})'.format(RSS)],\n",
        "                                                            loc='upper left')\n",
        "plt.show()\n",
        "\n",
        "# plot_histogram(W1_histogram_bins[W1_histogram_bins < W1_intermediate],\n",
        "#             W1_distribution_histogram_lower,\n",
        "#     histogram_title = 'Distribution of the relaxation rates for W1 < {:.2f} Hz'.format(W1_intermediate),\n",
        "#         x_axis_label = '$W_1$ (Hz)', y_axis_label = 'D($W_1$) (s)'),# x_axis_scale = 'log',\n",
        "#               #y_axis_scale = 'log')\n",
        "\n",
        "# plot_histogram(W1_histogram_bins[W1_histogram_bins > W1_intermediate],\n",
        "#             W1_distribution_histogram_upper,\n",
        "#     histogram_title = 'Distribution of the relaxation rates  for W1 > {:.2f} Hz'.format(W1_intermediate),\n",
        "#         x_axis_label = '$W_1$ (Hz)', y_axis_label = 'D($W_1$) (s)'),# x_axis_scale = 'log',\n",
        "#               #y_axis_scale = 'log')\n",
        "\n",
        "focus_index = int(9.8*len(W1_histogram_bins)/10)\n",
        "plot_histogram(W1_histogram_bins[focus_index:],\n",
        "               W1_distribution_histogram[focus_index:],\n",
        "    histogram_title = 'Distribution of the relaxation rates',\n",
        "        x_axis_label = '$W_1$ (Hz)', y_axis_label = 'D($W_1$) (s)')#, x_axis_scale = 'log')#,\n",
        "              #y_axis_scale = 'log')\n",
        "\n",
        "print(\"D(W1={:.2e} Hz) = {:.2f} s\".format(W1_histogram_bins[0], W1_distribution_histogram[0]))\n",
        "print(\"D(W1={:.2f} Hz) = {:.2f} s\".format(W1_histogram_bins[-1], W1_distribution_histogram[-1]))\n",
        "print('Lower cut-off corresponds to W1 = {:.2f} Hz'.format(\n",
        "    W1_relation_tauC(tauC_mean_value, W1maxTauC, omega_Larmor)) )\n",
        "\n",
        "print('\\n')\n",
        "print('Normalization check: Total sum = {:.2f}'.format(\n",
        "    distribution_integral(W1_histogram_bins, W1_distribution_histogram)))\n",
        "\n",
        "tauC_histogram_bins = histogram_bins(tauC_attempt, tauC_resonance, \n",
        "                                                number_of_bins_distribution)\n",
        "tauC_distribution_histogram = histogram_distribution_values(\n",
        "      tauC_histogram_bins, tauC_distribution_function,\n",
        "        tauC_mean, tauC_standard_deviation)\n",
        "\n",
        "tauC_distribution_integral_initial = distribution_integral(\n",
        "                        tauC_histogram_bins, tauC_distribution_histogram)\n",
        "\n",
        "tauC_distribution_histogram = (tauC_distribution_histogram\n",
        "                               /tauC_distribution_integral_initial)\n",
        "\n",
        "plot_histogram(tauC_histogram_bins,\n",
        "               tauC_distribution_histogram,\n",
        "histogram_title = 'Logarithmic plot of the Distribution of ${\\\\tau}_C$ values',\n",
        "        x_axis_label = '${\\\\tau}_C$ (s)',\n",
        "            y_axis_label = 'D(${\\\\tau}_C$) (Hz)')#, x_axis_scale='log')\n",
        "\n",
        "print('Normalization check: total sum = {:.2f}'.format(distribution_integral(\n",
        "                          tauC_histogram_bins, tauC_distribution_histogram)))\n",
        "print('\\n')\n",
        "print('Initial lower τC cut-off = {:.2e} s'.format(tauC_histogram_bins[0]))\n",
        "print('Initial upper τC cut-off = {:.2e} s'.format(tauC_histogram_bins[-1]))\n",
        "print('Initial mean value = {:.2e}'.format(tauC_mean))\n",
        "print('Initial standard deviation value = {:.2e}'.format(\n",
        "    tauC_standard_deviation))"
      ],
      "execution_count": null,
      "outputs": [
        {
          "output_type": "stream",
          "name": "stdout",
          "text": [
            "Optimal mean value: 10.608 ns and standad deviation value: 0.10\n"
          ]
        },
        {
          "output_type": "display_data",
          "data": {
            "image/png": "[encoded data removed]",
            "text/plain": [
              "<Figure size 432x288 with 1 Axes>"
            ]
          },
          "metadata": {
            "needs_background": "light"
          }
        },
        {
          "output_type": "display_data",
          "data": {
            "image/png": "[encoded data removed]",
            "text/plain": [
              "<Figure size 432x288 with 1 Axes>"
            ]
          },
          "metadata": {
            "needs_background": "light"
          }
        },
        {
          "output_type": "stream",
          "name": "stdout",
          "text": [
            "D(W1=2.81e-07 Hz) = 0.00 s\n",
            "D(W1=120.00 Hz) = 0.00 s\n",
            "Lower cut-off corresponds to W1 = 119.40 Hz\n",
            "\n",
            "\n",
            "Normalization check: Total sum = 1.00\n"
          ]
        },
        {
          "output_type": "display_data",
          "data": {
            "image/png": "[encoded data removed]",
            "text/plain": [
              "<Figure size 432x288 with 1 Axes>"
            ]
          },
          "metadata": {
            "needs_background": "light"
          }
        },
        {
          "output_type": "stream",
          "name": "stdout",
          "text": [
            "Normalization check: total sum = 1.00\n",
            "\n",
            "\n",
            "Initial lower τC cut-off = 1.00e-12 s\n",
            "Initial upper τC cut-off = 1.17e-08 s\n",
            "Initial mean value = 1.06e-08\n",
            "Initial standard deviation value = 1.00e-10\n"
          ]
        }
      ]
    }
  ]
}